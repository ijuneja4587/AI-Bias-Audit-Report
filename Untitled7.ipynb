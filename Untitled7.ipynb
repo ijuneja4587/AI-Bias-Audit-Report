{
 "cells": [
  {
   "cell_type": "code",
   "execution_count": 13,
   "id": "19a55661-88ac-453b-8bed-0a0624cd4e0b",
   "metadata": {},
   "outputs": [],
   "source": [
    "import pandas as pd\n",
    "import numpy as np \n",
    "import pandasql as ps\n",
    "import matplotlib.pyplot as plt \n",
    "import seaborn as sns\n",
    "import joblib"
   ]
  },
  {
   "cell_type": "code",
   "execution_count": 14,
   "id": "37b551d4-9f6e-4ef8-ae32-d102fa7ed069",
   "metadata": {},
   "outputs": [],
   "source": [
    "df = pd.read_csv(\"test.csv\")"
   ]
  },
  {
   "cell_type": "code",
   "execution_count": 15,
   "id": "fdff8bdd-d5f4-4e13-abb8-b36539a4c488",
   "metadata": {},
   "outputs": [
    {
     "data": {
      "text/html": [
       "<div>\n",
       "<style scoped>\n",
       "    .dataframe tbody tr th:only-of-type {\n",
       "        vertical-align: middle;\n",
       "    }\n",
       "\n",
       "    .dataframe tbody tr th {\n",
       "        vertical-align: top;\n",
       "    }\n",
       "\n",
       "    .dataframe thead th {\n",
       "        text-align: right;\n",
       "    }\n",
       "</style>\n",
       "<table border=\"1\" class=\"dataframe\">\n",
       "  <thead>\n",
       "    <tr style=\"text-align: right;\">\n",
       "      <th></th>\n",
       "      <th>ID</th>\n",
       "      <th>Gender</th>\n",
       "      <th>Race</th>\n",
       "      <th>Age</th>\n",
       "      <th>Age_Group</th>\n",
       "      <th>Income</th>\n",
       "      <th>Credit_Score</th>\n",
       "      <th>Loan_Amount</th>\n",
       "      <th>Employment_Type</th>\n",
       "      <th>Education_Level</th>\n",
       "      <th>Citizenship_Status</th>\n",
       "      <th>Language_Proficiency</th>\n",
       "      <th>Disability_Status</th>\n",
       "      <th>Criminal_Record</th>\n",
       "      <th>Zip_Code_Group</th>\n",
       "    </tr>\n",
       "  </thead>\n",
       "  <tbody>\n",
       "    <tr>\n",
       "      <th>0</th>\n",
       "      <td>589</td>\n",
       "      <td>Male</td>\n",
       "      <td>White</td>\n",
       "      <td>30</td>\n",
       "      <td>25-60</td>\n",
       "      <td>143019</td>\n",
       "      <td>544</td>\n",
       "      <td>157852</td>\n",
       "      <td>Full-time</td>\n",
       "      <td>High School</td>\n",
       "      <td>Citizen</td>\n",
       "      <td>Limited</td>\n",
       "      <td>No</td>\n",
       "      <td>No</td>\n",
       "      <td>Urban Professional</td>\n",
       "    </tr>\n",
       "    <tr>\n",
       "      <th>1</th>\n",
       "      <td>1580</td>\n",
       "      <td>Male</td>\n",
       "      <td>White</td>\n",
       "      <td>38</td>\n",
       "      <td>25-60</td>\n",
       "      <td>83581</td>\n",
       "      <td>595</td>\n",
       "      <td>170075</td>\n",
       "      <td>Full-time</td>\n",
       "      <td>Some College</td>\n",
       "      <td>Citizen</td>\n",
       "      <td>Fluent</td>\n",
       "      <td>No</td>\n",
       "      <td>No</td>\n",
       "      <td>Working Class Urban</td>\n",
       "    </tr>\n",
       "    <tr>\n",
       "      <th>2</th>\n",
       "      <td>5950</td>\n",
       "      <td>Female</td>\n",
       "      <td>White</td>\n",
       "      <td>19</td>\n",
       "      <td>Under 25</td>\n",
       "      <td>133965</td>\n",
       "      <td>577</td>\n",
       "      <td>53473</td>\n",
       "      <td>Full-time</td>\n",
       "      <td>Bachelor's</td>\n",
       "      <td>Citizen</td>\n",
       "      <td>Limited</td>\n",
       "      <td>No</td>\n",
       "      <td>No</td>\n",
       "      <td>Rural</td>\n",
       "    </tr>\n",
       "    <tr>\n",
       "      <th>3</th>\n",
       "      <td>475</td>\n",
       "      <td>Female</td>\n",
       "      <td>White</td>\n",
       "      <td>66</td>\n",
       "      <td>Over 60</td>\n",
       "      <td>88912</td>\n",
       "      <td>643</td>\n",
       "      <td>229985</td>\n",
       "      <td>Part-time</td>\n",
       "      <td>High School</td>\n",
       "      <td>Citizen</td>\n",
       "      <td>Limited</td>\n",
       "      <td>No</td>\n",
       "      <td>No</td>\n",
       "      <td>High-income Suburban</td>\n",
       "    </tr>\n",
       "    <tr>\n",
       "      <th>4</th>\n",
       "      <td>1079</td>\n",
       "      <td>Female</td>\n",
       "      <td>White</td>\n",
       "      <td>72</td>\n",
       "      <td>Over 60</td>\n",
       "      <td>59713</td>\n",
       "      <td>525</td>\n",
       "      <td>390167</td>\n",
       "      <td>Gig</td>\n",
       "      <td>High School</td>\n",
       "      <td>Citizen</td>\n",
       "      <td>Fluent</td>\n",
       "      <td>No</td>\n",
       "      <td>No</td>\n",
       "      <td>Working Class Urban</td>\n",
       "    </tr>\n",
       "  </tbody>\n",
       "</table>\n",
       "</div>"
      ],
      "text/plain": [
       "     ID  Gender   Race  Age Age_Group  Income  Credit_Score  Loan_Amount  \\\n",
       "0   589    Male  White   30     25-60  143019           544       157852   \n",
       "1  1580    Male  White   38     25-60   83581           595       170075   \n",
       "2  5950  Female  White   19  Under 25  133965           577        53473   \n",
       "3   475  Female  White   66   Over 60   88912           643       229985   \n",
       "4  1079  Female  White   72   Over 60   59713           525       390167   \n",
       "\n",
       "  Employment_Type Education_Level Citizenship_Status Language_Proficiency  \\\n",
       "0       Full-time     High School            Citizen              Limited   \n",
       "1       Full-time    Some College            Citizen               Fluent   \n",
       "2       Full-time      Bachelor's            Citizen              Limited   \n",
       "3       Part-time     High School            Citizen              Limited   \n",
       "4             Gig     High School            Citizen               Fluent   \n",
       "\n",
       "  Disability_Status Criminal_Record        Zip_Code_Group  \n",
       "0                No              No    Urban Professional  \n",
       "1                No              No   Working Class Urban  \n",
       "2                No              No                 Rural  \n",
       "3                No              No  High-income Suburban  \n",
       "4                No              No   Working Class Urban  "
      ]
     },
     "execution_count": 15,
     "metadata": {},
     "output_type": "execute_result"
    }
   ],
   "source": [
    "df.head()"
   ]
  },
  {
   "cell_type": "code",
   "execution_count": 16,
   "id": "75118014-2fbe-418f-b5b4-18459eeea724",
   "metadata": {},
   "outputs": [],
   "source": [
    "test_data = pd.read_csv(\"test.csv\")\n",
    "ids = test_data[\"ID\"]"
   ]
  },
  {
   "cell_type": "code",
   "execution_count": 17,
   "id": "cb6d1ff8-b41e-426a-9843-132cab6d423f",
   "metadata": {},
   "outputs": [],
   "source": [
    "test_data = test_data.drop(columns=['ID'])"
   ]
  },
  {
   "cell_type": "code",
   "execution_count": 20,
   "id": "e642155d-260c-4f07-9af0-0d668ce5d201",
   "metadata": {},
   "outputs": [],
   "source": [
    "rf = joblib.load(\"rf_model.pkl\")\n",
    "X_columns = joblib.load(\"X.columns.pkl\")\n",
    "scaler = joblib.load(\"scaler.pkl\")"
   ]
  },
  {
   "cell_type": "code",
   "execution_count": 21,
   "id": "e51620ec-60de-438f-bf1c-e14bd158b466",
   "metadata": {},
   "outputs": [],
   "source": [
    "test_data = pd.get_dummies(test_data)"
   ]
  },
  {
   "cell_type": "code",
   "execution_count": 22,
   "id": "7f07a1a3-bcf5-45ce-999b-156fe540821e",
   "metadata": {},
   "outputs": [],
   "source": [
    "for col in X_columns:\n",
    "    if col not in test_data.columns:\n",
    "        test_data[col] = 0"
   ]
  },
  {
   "cell_type": "code",
   "execution_count": 23,
   "id": "71bb2804-d193-42ea-bac6-a1916f4aeaa3",
   "metadata": {},
   "outputs": [],
   "source": [
    "test_data = test_data[X_columns]"
   ]
  },
  {
   "cell_type": "code",
   "execution_count": 24,
   "id": "9c269225-87a8-40c7-8346-a656c6b6f18d",
   "metadata": {},
   "outputs": [],
   "source": [
    "num_cols = ['Income', 'Credit_Score', 'Loan_Amount']\n",
    "test_data[num_cols] = scaler.transform(test_data[num_cols])"
   ]
  },
  {
   "cell_type": "code",
   "execution_count": 25,
   "id": "7ec01126-c1d0-4cf4-8b3b-a5a8a3167ba7",
   "metadata": {},
   "outputs": [],
   "source": [
    "test_data = test_data.replace([np.inf, -np.inf],np.nan)\n",
    "test_data.fillna(0, inplace=True)"
   ]
  },
  {
   "cell_type": "code",
   "execution_count": 26,
   "id": "ba512526-74a0-4ca2-8b09-a211978bbcbe",
   "metadata": {},
   "outputs": [],
   "source": [
    "preds = rf.predict(test_data)"
   ]
  },
  {
   "cell_type": "code",
   "execution_count": 27,
   "id": "3de2d1ea-f5e0-4238-8795-175679d82d17",
   "metadata": {},
   "outputs": [],
   "source": [
    "submission = pd.DataFrame({\n",
    "    'ID': ids,\n",
    "    'Loan_Approved':preds\n",
    "})\n",
    "submission['Loan_Approved'] = submission['Loan_Approved'].map({1: 'Approved', 0: 'Denied'})"
   ]
  },
  {
   "cell_type": "code",
   "execution_count": 28,
   "id": "dcf26a31-e858-4c7f-94db-f577a294d3b9",
   "metadata": {},
   "outputs": [
    {
     "name": "stdout",
     "output_type": "stream",
     "text": [
      "loan_predictions.csv saved\n"
     ]
    }
   ],
   "source": [
    "submission.to_csv(\"loan_predictions.csv\", index=False)\n",
    "print(\"loan_predictions.csv saved\")"
   ]
  },
  {
   "cell_type": "code",
   "execution_count": null,
   "id": "4b6adce0-11f3-4887-8cd7-be43351131b9",
   "metadata": {},
   "outputs": [],
   "source": []
  }
 ],
 "metadata": {
  "kernelspec": {
   "display_name": "Python 3 (ipykernel)",
   "language": "python",
   "name": "python3"
  },
  "language_info": {
   "codemirror_mode": {
    "name": "ipython",
    "version": 3
   },
   "file_extension": ".py",
   "mimetype": "text/x-python",
   "name": "python",
   "nbconvert_exporter": "python",
   "pygments_lexer": "ipython3",
   "version": "3.13.3"
  }
 },
 "nbformat": 4,
 "nbformat_minor": 5
}
